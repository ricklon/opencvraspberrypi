{
 "cells": [
  {
   "cell_type": "markdown",
   "metadata": {
    "collapsed": true
   },
   "source": [
    "# Getting Started with the PI Camers\n",
    "\n",
    "* Install the camera\n",
    "* Enable the camera\n",
    "* Take a picture with Python\n",
    "* Use cheese to take a picture\n",
    "\n",
    "## Official Documentation\n",
    "\n",
    "https://picamera.readthedocs.io/en/release-1.12/\n",
    "\n",
    "\n",
    "## Enable Raspberry PI Camera\n",
    "\n",
    "User the raspi-config either command line or graphical and select enable the camera.\n",
    "\n",
    "<img src=\"./images/raspicamera.png\" alt=\"raspberry pi camera enable\" width=\"75%\" height=\"75%\" />\n",
    "\n",
    "## Use some Python to use the Camera\n",
    "\n",
    "This is a built in library and should be on the Raspberry PI by default.\n",
    "\n",
    "\n"
   ]
  },
  {
   "cell_type": "code",
   "execution_count": 4,
   "metadata": {
    "collapsed": true
   },
   "outputs": [],
   "source": [
    "from time import sleep\n",
    "from picamera import PiCamera\n",
    "\n",
    "camera = PiCamera()\n",
    "camera.resolution = (1024, 768)\n",
    "camera.start_preview()\n",
    "# Camera warm-up time\n",
    "sleep(2)\n",
    "camera.capture('foo.jpg')\n",
    "camera.close()\n"
   ]
  },
  {
   "cell_type": "code",
   "execution_count": 3,
   "metadata": {
    "collapsed": true
   },
   "outputs": [],
   "source": [
    "from picamera import PiCamera\n",
    "from time import sleep\n",
    "\n",
    "camera = PiCamera()\n",
    "\n",
    "camera.start_preview()\n",
    "sleep(10)\n",
    "camera.stop_preview()\n",
    "sleep(10)\n",
    "camera.start_preview()\n",
    "sleep(10)\n",
    "camera.close()\n",
    "\n"
   ]
  },
  {
   "cell_type": "code",
   "execution_count": 2,
   "metadata": {
    "collapsed": true
   },
   "outputs": [],
   "source": []
  },
  {
   "cell_type": "markdown",
   "metadata": {},
   "source": [
    "## Trouble shooting and notes\n",
    "\n",
    "The PI Camera doesn't present itself to the system even though it's working through Python. What's not configured are the basic device nodes that Linux would like to use. So a program like \"cheese\" will not find the camera.\n",
    "\n",
    "```bash\n",
    "sudo apt-get install cheese\n",
    "```\n",
    "\n",
    "This would install cheese but this error would occur:\n",
    "No device found\n",
    "\n",
    "<img src=\"./images/nocheese.png\" alt=\"no cheese\" width=\"75%\" height=\"75%\" />\n",
    "\n",
    "```bash\n",
    "ls /dev/vid*\n",
    "```\n",
    "Would return no device.\n",
    "\n",
    "### The Fix\n",
    "\n",
    "The low linux kernel isn't loaded. So we have to do it manually.\n",
    "```bash\n",
    "sudo modprobe bcm2835-v4l2\n",
    "\n",
    "```\n",
    "\n",
    "### Use the Pi Camera with openCV\n",
    "\n",
    "Connect the PiCamera to openCV\n",
    "https://picamera.readthedocs.io/en/release-1.12/recipes2.html\n"
   ]
  },
  {
   "cell_type": "code",
   "execution_count": null,
   "metadata": {},
   "outputs": [],
   "source": [
    "\n"
   ]
  },
  {
   "cell_type": "code",
   "execution_count": 5,
   "metadata": {
    "collapsed": true
   },
   "outputs": [],
   "source": [
    "from time import sleep\n",
    "from picamera import PiCamera\n",
    "\n",
    "camera = PiCamera()\n",
    "camera.resolution = (1024, 768)\n",
    "camera.start_preview()\n",
    "# Camera warm-up time\n",
    "sleep(2)\n",
    "camera.capture('foo.jpg', resize=(320, 240))\n",
    "camera.close()\n"
   ]
  },
  {
   "cell_type": "code",
   "execution_count": null,
   "metadata": {
    "collapsed": true
   },
   "outputs": [],
   "source": []
  }
 ],
 "metadata": {
  "kernelspec": {
   "display_name": "Python 3",
   "language": "python",
   "name": "python3"
  },
  "language_info": {
   "codemirror_mode": {
    "name": "ipython",
    "version": 3
   },
   "file_extension": ".py",
   "mimetype": "text/x-python",
   "name": "python",
   "nbconvert_exporter": "python",
   "pygments_lexer": "ipython3",
   "version": "3.7.3"
  }
 },
 "nbformat": 4,
 "nbformat_minor": 2
}
