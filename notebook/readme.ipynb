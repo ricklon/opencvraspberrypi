{
 "cells": [
  {
   "cell_type": "markdown",
   "metadata": {},
   "source": [
    "# Introduction PI Camera\n",
    "\n",
    "There are three major modes of working with the PI Camera. One is built in system utilities. We use those as nescearry. Then next is using the Python picamera library. That will be the default exploration. Last is the openCV route. We'll do the same intro of PI Camera with openCV versions.\n",
    "\n",
    "1. \n",
    "[Getting setup with the PI Camera](Gettinget Started with the PI Camera.ipynb)\n",
    "\n",
    "2. Hello world Python PICamera\n",
    "3. Basic usage of the library\n",
    "4. What is openCV\n",
    "5. Setting up the PICamera for openCV\n"
   ]
  },
  {
   "cell_type": "code",
   "execution_count": null,
   "metadata": {},
   "outputs": [],
   "source": []
  },
  {
   "cell_type": "code",
   "execution_count": null,
   "metadata": {},
   "outputs": [],
   "source": []
  }
 ],
 "metadata": {
  "kernelspec": {
   "display_name": "Python 3",
   "language": "python",
   "name": "python3"
  },
  "language_info": {
   "codemirror_mode": {
    "name": "ipython",
    "version": 3
   },
   "file_extension": ".py",
   "mimetype": "text/x-python",
   "name": "python",
   "nbconvert_exporter": "python",
   "pygments_lexer": "ipython3",
   "version": "3.7.3"
  }
 },
 "nbformat": 4,
 "nbformat_minor": 4
}
